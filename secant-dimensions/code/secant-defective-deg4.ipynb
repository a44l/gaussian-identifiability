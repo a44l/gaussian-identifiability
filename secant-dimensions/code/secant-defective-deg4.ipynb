{
 "cells": [
  {
   "attachments": {},
   "cell_type": "markdown",
   "metadata": {},
   "source": [
    "## Degree 4 Gaussian moment secants are defective\n",
    "\n",
    "For fixed dimension $n$, this script calculates the maximum rank $m$ up to which secants of the degree-$4$ Gaussian moment variety have the expected dimension. This maximum rank appears to be 1, independent of $m$."
   ]
  },
  {
   "cell_type": "code",
   "execution_count": 2,
   "metadata": {
    "collapsed": false,
    "jupyter": {
     "outputs_hidden": false
    }
   },
   "outputs": [
    {
     "name": "stderr",
     "output_type": "stream",
     "text": [
      "\u001b[32m\u001b[1m  Activating\u001b[22m\u001b[39m project at `~/Nextcloud/research/gaussian-mixtures/gaussian-identifiability/code/identifiability`\n"
     ]
    },
    {
     "data": {
      "text/plain": [
       "#45 (generic function with 1 method)"
      ]
     },
     "metadata": {},
     "output_type": "display_data"
    }
   ],
   "source": [
    "using Pkg; Pkg.activate(\"identifiability\");\n",
    "using DynamicPolynomials, SparseArrays, Plots, DataFrames, CSV, JLD2, FileIO;\n",
    "const d = 4;\n",
    "const moments_d(q, ℓ) = ℓ^4 + 6*q*ℓ^2 + 3*q^2; # degree 4 moments  \n",
    "const f(q, ℓ) = ℓ^2 + q;\n",
    "const g(q, ℓ) = ℓ^3 + 3*q*ℓ;\n",
    "include(\"gaussian-moments.jl\")"
   ]
  },
  {
   "cell_type": "code",
   "execution_count": 3,
   "metadata": {},
   "outputs": [],
   "source": [
    "filepath_csv = \"../data/secant-dimensions-deg4.csv\";\n",
    "filepath_jld = \"../data/skewsecants-deg4.jld2\";"
   ]
  },
  {
   "cell_type": "code",
   "execution_count": 4,
   "metadata": {},
   "outputs": [],
   "source": [
    "n_min = 2;\n",
    "n_max = 20;\n",
    "@polyvar X[1:n_max];\n",
    "\n",
    "restart = false; # set this to true in order to overwrite results of previous computations and start from scratch\n",
    "initdf = DataFrame(:n=>Int[], :m => Int[], :secant_dim=>Int[], :exp_dim =>Int[], :defect =>[]);\n",
    "df = initdf;\n",
    "if isfile(filepath_csv)\n",
    "    df = DataFrame(CSV.read(filepath_csv, DataFrame))\n",
    "    if restart || (size(df, 1) == 0)\n",
    "        df = initdf;\n",
    "        CSV.write(filepath_csv, df)\n",
    "    end\n",
    "else \n",
    "    CSV.write(filepath_csv, df)\n",
    "end\n",
    "is_secant_dim_computed(i) = i∈df.n\n",
    "pcountrank(n, d) = Int(floor(binomial(n+d-1, d)/(binomial(n+1, 2) + n)));\n",
    "\n",
    "for i = n_min:n_max\n",
    "    # check if the values have already been computed before\n",
    "    if is_secant_dim_computed(i)\n",
    "        continue;\n",
    "    end\n",
    "    m = pcountrank(i, d);\n",
    "    dim, exp_dim, m, A, B = secant_tangent_dimension_general(i, X[1:i], m);\n",
    "\n",
    "\n",
    "    new_row = DataFrame(:n=>[i], :m => [m], :secant_dim=>[dim], :exp_dim =>[exp_dim], :defect =>[exp_dim-dim])\n",
    "    append!(df, new_row)\n",
    "    CSV.write(filepath_csv, new_row; append=true)\n",
    "end\n"
   ]
  },
  {
   "cell_type": "code",
   "execution_count": 14,
   "metadata": {},
   "outputs": [
    {
     "data": {
      "text/plain": [
       "(5, 15, 3, sparse([1, 2, 3, 2, 3, 4, 3, 4, 5, 1  …  5, 1, 2, 3, 2, 3, 4, 3, 4, 5], [1, 1, 1, 2, 2, 2, 3, 3, 3, 4, 4, 4, 5, 5, 5, 6, 6, 6, 7, 7, 7, 8, 8, 8, 9, 9, 9], [0.7658689848973352, -1.0417557545043068, -0.23093128216558637, 0.7658689848973352, -1.0417557545043068, -0.23093128216558637, 0.7658689848973352, -1.0417557545043068, -0.23093128216558637, 1.6873361973627103  …  1.4552976149103483, 1.2369125005733013, -1.5235041782773762, 0.719707811167448, 1.2369125005733013, -1.5235041782773762, 0.719707811167448, 1.2369125005733013, -1.5235041782773762, 0.719707811167448], 5, 9), sparse([1, 2, 3, 4, 2, 3, 4, 5, 1, 2  …  4, 5, 1, 2, 3, 4, 2, 3, 4, 5], [1, 1, 1, 1, 2, 2, 2, 2, 3, 3, 3, 3, 4, 4, 4, 4, 5, 5, 5, 5, 6, 6, 6, 6], [-0.2182480449081765, 1.321817704156868, -1.2392504054995803, -0.5054990991018594, -0.2182480449081765, 1.321817704156868, -1.2392504054995803, -0.5054990991018594, -0.8795362463226626, -8.63326227443416  …  -8.977667889827007, -2.4629763564512173, 1.9415123346655356, -3.664008801318456, 2.53756256507565, -0.46045628873430533, 1.9415123346655356, -3.664008801318456, 2.53756256507565, -0.46045628873430533], 5, 6))"
      ]
     },
     "metadata": {},
     "output_type": "display_data"
    }
   ],
   "source": [
    "secant_tangent_dimension_general(2, X[1:2], 3)"
   ]
  },
  {
   "cell_type": "code",
   "execution_count": 4,
   "metadata": {
    "collapsed": false,
    "jupyter": {
     "outputs_hidden": false
    }
   },
   "outputs": [
    {
     "data": {
      "image/svg+xml": [
       "<?xml version=\"1.0\" encoding=\"utf-8\"?>\n",
       "<svg xmlns=\"http://www.w3.org/2000/svg\" xmlns:xlink=\"http://www.w3.org/1999/xlink\" width=\"600\" height=\"400\" viewBox=\"0 0 2400 1600\">\n",
       "<defs>\n",
       "  <clipPath id=\"clip080\">\n",
       "    <rect x=\"0\" y=\"0\" width=\"2400\" height=\"1600\"/>\n",
       "  </clipPath>\n",
       "</defs>\n",
       "<path clip-path=\"url(#clip080)\" d=\"\n",
       "M0 1600 L2400 1600 L2400 0 L0 0  Z\n",
       "  \" fill=\"#ffffff\" fill-rule=\"evenodd\" fill-opacity=\"1\"/>\n",
       "<defs>\n",
       "  <clipPath id=\"clip081\">\n",
       "    <rect x=\"480\" y=\"0\" width=\"1681\" height=\"1600\"/>\n",
       "  </clipPath>\n",
       "</defs>\n",
       "<path clip-path=\"url(#clip080)\" d=\"\n",
       "M170.857 1486.45 L2352.76 1486.45 L2352.76 47.2441 L170.857 47.2441  Z\n",
       "  \" fill=\"#ffffff\" fill-rule=\"evenodd\" fill-opacity=\"1\"/>\n",
       "<defs>\n",
       "  <clipPath id=\"clip082\">\n",
       "    <rect x=\"170\" y=\"47\" width=\"2183\" height=\"1440\"/>\n",
       "  </clipPath>\n",
       "</defs>\n",
       "<polyline clip-path=\"url(#clip082)\" style=\"stroke:#000000; stroke-linecap:round; stroke-linejoin:round; stroke-width:2; stroke-opacity:0.1; fill:none\" points=\"\n",
       "  318.376,1486.45 318.376,47.2441 \n",
       "  \"/>\n",
       "<polyline clip-path=\"url(#clip082)\" style=\"stroke:#000000; stroke-linecap:round; stroke-linejoin:round; stroke-width:2; stroke-opacity:0.1; fill:none\" points=\"\n",
       "  747.208,1486.45 747.208,47.2441 \n",
       "  \"/>\n",
       "<polyline clip-path=\"url(#clip082)\" style=\"stroke:#000000; stroke-linecap:round; stroke-linejoin:round; stroke-width:2; stroke-opacity:0.1; fill:none\" points=\"\n",
       "  1176.04,1486.45 1176.04,47.2441 \n",
       "  \"/>\n",
       "<polyline clip-path=\"url(#clip082)\" style=\"stroke:#000000; stroke-linecap:round; stroke-linejoin:round; stroke-width:2; stroke-opacity:0.1; fill:none\" points=\"\n",
       "  1604.87,1486.45 1604.87,47.2441 \n",
       "  \"/>\n",
       "<polyline clip-path=\"url(#clip082)\" style=\"stroke:#000000; stroke-linecap:round; stroke-linejoin:round; stroke-width:2; stroke-opacity:0.1; fill:none\" points=\"\n",
       "  2033.7,1486.45 2033.7,47.2441 \n",
       "  \"/>\n",
       "<polyline clip-path=\"url(#clip080)\" style=\"stroke:#000000; stroke-linecap:round; stroke-linejoin:round; stroke-width:4; stroke-opacity:1; fill:none\" points=\"\n",
       "  170.857,1486.45 2352.76,1486.45 \n",
       "  \"/>\n",
       "<polyline clip-path=\"url(#clip080)\" style=\"stroke:#000000; stroke-linecap:round; stroke-linejoin:round; stroke-width:4; stroke-opacity:1; fill:none\" points=\"\n",
       "  318.376,1486.45 318.376,1467.55 \n",
       "  \"/>\n",
       "<polyline clip-path=\"url(#clip080)\" style=\"stroke:#000000; stroke-linecap:round; stroke-linejoin:round; stroke-width:4; stroke-opacity:1; fill:none\" points=\"\n",
       "  747.208,1486.45 747.208,1467.55 \n",
       "  \"/>\n",
       "<polyline clip-path=\"url(#clip080)\" style=\"stroke:#000000; stroke-linecap:round; stroke-linejoin:round; stroke-width:4; stroke-opacity:1; fill:none\" points=\"\n",
       "  1176.04,1486.45 1176.04,1467.55 \n",
       "  \"/>\n",
       "<polyline clip-path=\"url(#clip080)\" style=\"stroke:#000000; stroke-linecap:round; stroke-linejoin:round; stroke-width:4; stroke-opacity:1; fill:none\" points=\"\n",
       "  1604.87,1486.45 1604.87,1467.55 \n",
       "  \"/>\n",
       "<polyline clip-path=\"url(#clip080)\" style=\"stroke:#000000; stroke-linecap:round; stroke-linejoin:round; stroke-width:4; stroke-opacity:1; fill:none\" points=\"\n",
       "  2033.7,1486.45 2033.7,1467.55 \n",
       "  \"/>\n",
       "<path clip-path=\"url(#clip080)\" d=\"M290.112 1544.91 L306.431 1544.91 L306.431 1548.85 L284.487 1548.85 L284.487 1544.91 Q287.149 1542.16 291.732 1537.53 Q296.339 1532.88 297.519 1531.53 Q299.765 1529.01 300.644 1527.27 Q301.547 1525.51 301.547 1523.82 Q301.547 1521.07 299.603 1519.33 Q297.681 1517.6 294.58 1517.6 Q292.38 1517.6 289.927 1518.36 Q287.496 1519.13 284.718 1520.68 L284.718 1515.95 Q287.543 1514.82 289.996 1514.24 Q292.45 1513.66 294.487 1513.66 Q299.857 1513.66 303.052 1516.35 Q306.246 1519.03 306.246 1523.52 Q306.246 1525.65 305.436 1527.57 Q304.649 1529.47 302.542 1532.07 Q301.964 1532.74 298.862 1535.95 Q295.76 1539.15 290.112 1544.91 Z\" fill=\"#000000\" fill-rule=\"evenodd\" fill-opacity=\"1\" /><path clip-path=\"url(#clip080)\" d=\"M316.246 1542.97 L321.13 1542.97 L321.13 1548.85 L316.246 1548.85 L316.246 1542.97 Z\" fill=\"#000000\" fill-rule=\"evenodd\" fill-opacity=\"1\" /><path clip-path=\"url(#clip080)\" d=\"M331.362 1514.29 L349.718 1514.29 L349.718 1518.22 L335.644 1518.22 L335.644 1526.7 Q336.663 1526.35 337.681 1526.19 Q338.7 1526 339.718 1526 Q345.505 1526 348.885 1529.17 Q352.264 1532.34 352.264 1537.76 Q352.264 1543.34 348.792 1546.44 Q345.32 1549.52 339.001 1549.52 Q336.825 1549.52 334.556 1549.15 Q332.311 1548.78 329.903 1548.04 L329.903 1543.34 Q331.987 1544.47 334.209 1545.03 Q336.431 1545.58 338.908 1545.58 Q342.913 1545.58 345.251 1543.48 Q347.589 1541.37 347.589 1537.76 Q347.589 1534.15 345.251 1532.04 Q342.913 1529.94 338.908 1529.94 Q337.033 1529.94 335.158 1530.35 Q333.306 1530.77 331.362 1531.65 L331.362 1514.29 Z\" fill=\"#000000\" fill-rule=\"evenodd\" fill-opacity=\"1\" /><path clip-path=\"url(#clip080)\" d=\"M714.372 1514.29 L732.729 1514.29 L732.729 1518.22 L718.655 1518.22 L718.655 1526.7 Q719.673 1526.35 720.692 1526.19 Q721.71 1526 722.729 1526 Q728.516 1526 731.896 1529.17 Q735.275 1532.34 735.275 1537.76 Q735.275 1543.34 731.803 1546.44 Q728.331 1549.52 722.011 1549.52 Q719.835 1549.52 717.567 1549.15 Q715.322 1548.78 712.914 1548.04 L712.914 1543.34 Q714.997 1544.47 717.22 1545.03 Q719.442 1545.58 721.919 1545.58 Q725.923 1545.58 728.261 1543.48 Q730.599 1541.37 730.599 1537.76 Q730.599 1534.15 728.261 1532.04 Q725.923 1529.94 721.919 1529.94 Q720.044 1529.94 718.169 1530.35 Q716.317 1530.77 714.372 1531.65 L714.372 1514.29 Z\" fill=\"#000000\" fill-rule=\"evenodd\" fill-opacity=\"1\" /><path clip-path=\"url(#clip080)\" d=\"M744.488 1542.97 L749.372 1542.97 L749.372 1548.85 L744.488 1548.85 L744.488 1542.97 Z\" fill=\"#000000\" fill-rule=\"evenodd\" fill-opacity=\"1\" /><path clip-path=\"url(#clip080)\" d=\"M769.557 1517.37 Q765.946 1517.37 764.118 1520.93 Q762.312 1524.47 762.312 1531.6 Q762.312 1538.71 764.118 1542.27 Q765.946 1545.82 769.557 1545.82 Q773.192 1545.82 774.997 1542.27 Q776.826 1538.71 776.826 1531.6 Q776.826 1524.47 774.997 1520.93 Q773.192 1517.37 769.557 1517.37 M769.557 1513.66 Q775.368 1513.66 778.423 1518.27 Q781.502 1522.85 781.502 1531.6 Q781.502 1540.33 778.423 1544.94 Q775.368 1549.52 769.557 1549.52 Q763.747 1549.52 760.669 1544.94 Q757.613 1540.33 757.613 1531.6 Q757.613 1522.85 760.669 1518.27 Q763.747 1513.66 769.557 1513.66 Z\" fill=\"#000000\" fill-rule=\"evenodd\" fill-opacity=\"1\" /><path clip-path=\"url(#clip080)\" d=\"M1142.36 1514.29 L1164.58 1514.29 L1164.58 1516.28 L1152.04 1548.85 L1147.15 1548.85 L1158.96 1518.22 L1142.36 1518.22 L1142.36 1514.29 Z\" fill=\"#000000\" fill-rule=\"evenodd\" fill-opacity=\"1\" /><path clip-path=\"url(#clip080)\" d=\"M1173.7 1542.97 L1178.59 1542.97 L1178.59 1548.85 L1173.7 1548.85 L1173.7 1542.97 Z\" fill=\"#000000\" fill-rule=\"evenodd\" fill-opacity=\"1\" /><path clip-path=\"url(#clip080)\" d=\"M1188.82 1514.29 L1207.17 1514.29 L1207.17 1518.22 L1193.1 1518.22 L1193.1 1526.7 Q1194.12 1526.35 1195.14 1526.19 Q1196.16 1526 1197.17 1526 Q1202.96 1526 1206.34 1529.17 Q1209.72 1532.34 1209.72 1537.76 Q1209.72 1543.34 1206.25 1546.44 Q1202.78 1549.52 1196.46 1549.52 Q1194.28 1549.52 1192.01 1549.15 Q1189.77 1548.78 1187.36 1548.04 L1187.36 1543.34 Q1189.44 1544.47 1191.67 1545.03 Q1193.89 1545.58 1196.36 1545.58 Q1200.37 1545.58 1202.71 1543.48 Q1205.04 1541.37 1205.04 1537.76 Q1205.04 1534.15 1202.71 1532.04 Q1200.37 1529.94 1196.36 1529.94 Q1194.49 1529.94 1192.61 1530.35 Q1190.76 1530.77 1188.82 1531.65 L1188.82 1514.29 Z\" fill=\"#000000\" fill-rule=\"evenodd\" fill-opacity=\"1\" /><path clip-path=\"url(#clip080)\" d=\"M1556.94 1544.91 L1564.58 1544.91 L1564.58 1518.55 L1556.27 1520.21 L1556.27 1515.95 L1564.54 1514.29 L1569.21 1514.29 L1569.21 1544.91 L1576.85 1544.91 L1576.85 1548.85 L1556.94 1548.85 L1556.94 1544.91 Z\" fill=\"#000000\" fill-rule=\"evenodd\" fill-opacity=\"1\" /><path clip-path=\"url(#clip080)\" d=\"M1596.3 1517.37 Q1592.69 1517.37 1590.86 1520.93 Q1589.05 1524.47 1589.05 1531.6 Q1589.05 1538.71 1590.86 1542.27 Q1592.69 1545.82 1596.3 1545.82 Q1599.93 1545.82 1601.74 1542.27 Q1603.56 1538.71 1603.56 1531.6 Q1603.56 1524.47 1601.74 1520.93 Q1599.93 1517.37 1596.3 1517.37 M1596.3 1513.66 Q1602.11 1513.66 1605.16 1518.27 Q1608.24 1522.85 1608.24 1531.6 Q1608.24 1540.33 1605.16 1544.94 Q1602.11 1549.52 1596.3 1549.52 Q1590.49 1549.52 1587.41 1544.94 Q1584.35 1540.33 1584.35 1531.6 Q1584.35 1522.85 1587.41 1518.27 Q1590.49 1513.66 1596.3 1513.66 Z\" fill=\"#000000\" fill-rule=\"evenodd\" fill-opacity=\"1\" /><path clip-path=\"url(#clip080)\" d=\"M1616.46 1542.97 L1621.34 1542.97 L1621.34 1548.85 L1616.46 1548.85 L1616.46 1542.97 Z\" fill=\"#000000\" fill-rule=\"evenodd\" fill-opacity=\"1\" /><path clip-path=\"url(#clip080)\" d=\"M1641.53 1517.37 Q1637.92 1517.37 1636.09 1520.93 Q1634.28 1524.47 1634.28 1531.6 Q1634.28 1538.71 1636.09 1542.27 Q1637.92 1545.82 1641.53 1545.82 Q1645.16 1545.82 1646.97 1542.27 Q1648.8 1538.71 1648.8 1531.6 Q1648.8 1524.47 1646.97 1520.93 Q1645.16 1517.37 1641.53 1517.37 M1641.53 1513.66 Q1647.34 1513.66 1650.39 1518.27 Q1653.47 1522.85 1653.47 1531.6 Q1653.47 1540.33 1650.39 1544.94 Q1647.34 1549.52 1641.53 1549.52 Q1635.72 1549.52 1632.64 1544.94 Q1629.58 1540.33 1629.58 1531.6 Q1629.58 1522.85 1632.64 1518.27 Q1635.72 1513.66 1641.53 1513.66 Z\" fill=\"#000000\" fill-rule=\"evenodd\" fill-opacity=\"1\" /><path clip-path=\"url(#clip080)\" d=\"M1986.27 1544.91 L1993.91 1544.91 L1993.91 1518.55 L1985.6 1520.21 L1985.6 1515.95 L1993.87 1514.29 L1998.54 1514.29 L1998.54 1544.91 L2006.18 1544.91 L2006.18 1548.85 L1986.27 1548.85 L1986.27 1544.91 Z\" fill=\"#000000\" fill-rule=\"evenodd\" fill-opacity=\"1\" /><path clip-path=\"url(#clip080)\" d=\"M2019.65 1544.91 L2035.97 1544.91 L2035.97 1548.85 L2014.03 1548.85 L2014.03 1544.91 Q2016.69 1542.16 2021.27 1537.53 Q2025.88 1532.88 2027.06 1531.53 Q2029.31 1529.01 2030.19 1527.27 Q2031.09 1525.51 2031.09 1523.82 Q2031.09 1521.07 2029.14 1519.33 Q2027.22 1517.6 2024.12 1517.6 Q2021.92 1517.6 2019.47 1518.36 Q2017.04 1519.13 2014.26 1520.68 L2014.26 1515.95 Q2017.08 1514.82 2019.54 1514.24 Q2021.99 1513.66 2024.03 1513.66 Q2029.4 1513.66 2032.59 1516.35 Q2035.79 1519.03 2035.79 1523.52 Q2035.79 1525.65 2034.98 1527.57 Q2034.19 1529.47 2032.08 1532.07 Q2031.51 1532.74 2028.4 1535.95 Q2025.3 1539.15 2019.65 1544.91 Z\" fill=\"#000000\" fill-rule=\"evenodd\" fill-opacity=\"1\" /><path clip-path=\"url(#clip080)\" d=\"M2045.79 1542.97 L2050.67 1542.97 L2050.67 1548.85 L2045.79 1548.85 L2045.79 1542.97 Z\" fill=\"#000000\" fill-rule=\"evenodd\" fill-opacity=\"1\" /><path clip-path=\"url(#clip080)\" d=\"M2060.9 1514.29 L2079.26 1514.29 L2079.26 1518.22 L2065.19 1518.22 L2065.19 1526.7 Q2066.2 1526.35 2067.22 1526.19 Q2068.24 1526 2069.26 1526 Q2075.05 1526 2078.43 1529.17 Q2081.81 1532.34 2081.81 1537.76 Q2081.81 1543.34 2078.33 1546.44 Q2074.86 1549.52 2068.54 1549.52 Q2066.37 1549.52 2064.1 1549.15 Q2061.85 1548.78 2059.45 1548.04 L2059.45 1543.34 Q2061.53 1544.47 2063.75 1545.03 Q2065.97 1545.58 2068.45 1545.58 Q2072.45 1545.58 2074.79 1543.48 Q2077.13 1541.37 2077.13 1537.76 Q2077.13 1534.15 2074.79 1532.04 Q2072.45 1529.94 2068.45 1529.94 Q2066.57 1529.94 2064.7 1530.35 Q2062.85 1530.77 2060.9 1531.65 L2060.9 1514.29 Z\" fill=\"#000000\" fill-rule=\"evenodd\" fill-opacity=\"1\" /><polyline clip-path=\"url(#clip082)\" style=\"stroke:#000000; stroke-linecap:round; stroke-linejoin:round; stroke-width:2; stroke-opacity:0.1; fill:none\" points=\"\n",
       "  170.857,1474.85 2352.76,1474.85 \n",
       "  \"/>\n",
       "<polyline clip-path=\"url(#clip082)\" style=\"stroke:#000000; stroke-linecap:round; stroke-linejoin:round; stroke-width:2; stroke-opacity:0.1; fill:none\" points=\"\n",
       "  170.857,1183.49 2352.76,1183.49 \n",
       "  \"/>\n",
       "<polyline clip-path=\"url(#clip082)\" style=\"stroke:#000000; stroke-linecap:round; stroke-linejoin:round; stroke-width:2; stroke-opacity:0.1; fill:none\" points=\"\n",
       "  170.857,892.131 2352.76,892.131 \n",
       "  \"/>\n",
       "<polyline clip-path=\"url(#clip082)\" style=\"stroke:#000000; stroke-linecap:round; stroke-linejoin:round; stroke-width:2; stroke-opacity:0.1; fill:none\" points=\"\n",
       "  170.857,600.771 2352.76,600.771 \n",
       "  \"/>\n",
       "<polyline clip-path=\"url(#clip082)\" style=\"stroke:#000000; stroke-linecap:round; stroke-linejoin:round; stroke-width:2; stroke-opacity:0.1; fill:none\" points=\"\n",
       "  170.857,309.41 2352.76,309.41 \n",
       "  \"/>\n",
       "<polyline clip-path=\"url(#clip080)\" style=\"stroke:#000000; stroke-linecap:round; stroke-linejoin:round; stroke-width:4; stroke-opacity:1; fill:none\" points=\"\n",
       "  170.857,1486.45 170.857,47.2441 \n",
       "  \"/>\n",
       "<polyline clip-path=\"url(#clip080)\" style=\"stroke:#000000; stroke-linecap:round; stroke-linejoin:round; stroke-width:4; stroke-opacity:1; fill:none\" points=\"\n",
       "  170.857,1474.85 189.755,1474.85 \n",
       "  \"/>\n",
       "<polyline clip-path=\"url(#clip080)\" style=\"stroke:#000000; stroke-linecap:round; stroke-linejoin:round; stroke-width:4; stroke-opacity:1; fill:none\" points=\"\n",
       "  170.857,1183.49 189.755,1183.49 \n",
       "  \"/>\n",
       "<polyline clip-path=\"url(#clip080)\" style=\"stroke:#000000; stroke-linecap:round; stroke-linejoin:round; stroke-width:4; stroke-opacity:1; fill:none\" points=\"\n",
       "  170.857,892.131 189.755,892.131 \n",
       "  \"/>\n",
       "<polyline clip-path=\"url(#clip080)\" style=\"stroke:#000000; stroke-linecap:round; stroke-linejoin:round; stroke-width:4; stroke-opacity:1; fill:none\" points=\"\n",
       "  170.857,600.771 189.755,600.771 \n",
       "  \"/>\n",
       "<polyline clip-path=\"url(#clip080)\" style=\"stroke:#000000; stroke-linecap:round; stroke-linejoin:round; stroke-width:4; stroke-opacity:1; fill:none\" points=\"\n",
       "  170.857,309.41 189.755,309.41 \n",
       "  \"/>\n",
       "<path clip-path=\"url(#clip080)\" d=\"M122.913 1460.65 Q119.302 1460.65 117.473 1464.22 Q115.668 1467.76 115.668 1474.89 Q115.668 1481.99 117.473 1485.56 Q119.302 1489.1 122.913 1489.1 Q126.547 1489.1 128.353 1485.56 Q130.182 1481.99 130.182 1474.89 Q130.182 1467.76 128.353 1464.22 Q126.547 1460.65 122.913 1460.65 M122.913 1456.95 Q128.723 1456.95 131.779 1461.55 Q134.857 1466.14 134.857 1474.89 Q134.857 1483.61 131.779 1488.22 Q128.723 1492.8 122.913 1492.8 Q117.103 1492.8 114.024 1488.22 Q110.969 1483.61 110.969 1474.89 Q110.969 1466.14 114.024 1461.55 Q117.103 1456.95 122.913 1456.95 Z\" fill=\"#000000\" fill-rule=\"evenodd\" fill-opacity=\"1\" /><path clip-path=\"url(#clip080)\" d=\"M82.7975 1166.21 L101.154 1166.21 L101.154 1170.15 L87.0799 1170.15 L87.0799 1178.62 Q88.0984 1178.27 89.1169 1178.11 Q90.1354 1177.92 91.1539 1177.92 Q96.941 1177.92 100.321 1181.1 Q103.7 1184.27 103.7 1189.68 Q103.7 1195.26 100.228 1198.36 Q96.7558 1201.44 90.4364 1201.44 Q88.2604 1201.44 85.9919 1201.07 Q83.7466 1200.7 81.3392 1199.96 L81.3392 1195.26 Q83.4225 1196.4 85.6447 1196.95 Q87.8669 1197.51 90.3438 1197.51 Q94.3484 1197.51 96.6863 1195.4 Q99.0243 1193.29 99.0243 1189.68 Q99.0243 1186.07 96.6863 1183.97 Q94.3484 1181.86 90.3438 1181.86 Q88.4688 1181.86 86.5938 1182.28 Q84.7419 1182.69 82.7975 1183.57 L82.7975 1166.21 Z\" fill=\"#000000\" fill-rule=\"evenodd\" fill-opacity=\"1\" /><path clip-path=\"url(#clip080)\" d=\"M122.913 1169.29 Q119.302 1169.29 117.473 1172.85 Q115.668 1176.4 115.668 1183.53 Q115.668 1190.63 117.473 1194.2 Q119.302 1197.74 122.913 1197.74 Q126.547 1197.74 128.353 1194.2 Q130.182 1190.63 130.182 1183.53 Q130.182 1176.4 128.353 1172.85 Q126.547 1169.29 122.913 1169.29 M122.913 1165.59 Q128.723 1165.59 131.779 1170.19 Q134.857 1174.78 134.857 1183.53 Q134.857 1192.25 131.779 1196.86 Q128.723 1201.44 122.913 1201.44 Q117.103 1201.44 114.024 1196.86 Q110.969 1192.25 110.969 1183.53 Q110.969 1174.78 114.024 1170.19 Q117.103 1165.59 122.913 1165.59 Z\" fill=\"#000000\" fill-rule=\"evenodd\" fill-opacity=\"1\" /><path clip-path=\"url(#clip080)\" d=\"M53.3995 905.476 L61.0384 905.476 L61.0384 879.11 L52.7282 880.777 L52.7282 876.518 L60.9921 874.851 L65.668 874.851 L65.668 905.476 L73.3068 905.476 L73.3068 909.411 L53.3995 909.411 L53.3995 905.476 Z\" fill=\"#000000\" fill-rule=\"evenodd\" fill-opacity=\"1\" /><path clip-path=\"url(#clip080)\" d=\"M92.7512 877.93 Q89.1401 877.93 87.3114 881.494 Q85.5058 885.036 85.5058 892.166 Q85.5058 899.272 87.3114 902.837 Q89.1401 906.379 92.7512 906.379 Q96.3854 906.379 98.1909 902.837 Q100.02 899.272 100.02 892.166 Q100.02 885.036 98.1909 881.494 Q96.3854 877.93 92.7512 877.93 M92.7512 874.226 Q98.5613 874.226 101.617 878.832 Q104.696 883.416 104.696 892.166 Q104.696 900.892 101.617 905.499 Q98.5613 910.082 92.7512 910.082 Q86.941 910.082 83.8623 905.499 Q80.8068 900.892 80.8068 892.166 Q80.8068 883.416 83.8623 878.832 Q86.941 874.226 92.7512 874.226 Z\" fill=\"#000000\" fill-rule=\"evenodd\" fill-opacity=\"1\" /><path clip-path=\"url(#clip080)\" d=\"M122.913 877.93 Q119.302 877.93 117.473 881.494 Q115.668 885.036 115.668 892.166 Q115.668 899.272 117.473 902.837 Q119.302 906.379 122.913 906.379 Q126.547 906.379 128.353 902.837 Q130.182 899.272 130.182 892.166 Q130.182 885.036 128.353 881.494 Q126.547 877.93 122.913 877.93 M122.913 874.226 Q128.723 874.226 131.779 878.832 Q134.857 883.416 134.857 892.166 Q134.857 900.892 131.779 905.499 Q128.723 910.082 122.913 910.082 Q117.103 910.082 114.024 905.499 Q110.969 900.892 110.969 892.166 Q110.969 883.416 114.024 878.832 Q117.103 874.226 122.913 874.226 Z\" fill=\"#000000\" fill-rule=\"evenodd\" fill-opacity=\"1\" /><path clip-path=\"url(#clip080)\" d=\"M53.3995 614.115 L61.0384 614.115 L61.0384 587.75 L52.7282 589.416 L52.7282 585.157 L60.9921 583.491 L65.668 583.491 L65.668 614.115 L73.3068 614.115 L73.3068 618.051 L53.3995 618.051 L53.3995 614.115 Z\" fill=\"#000000\" fill-rule=\"evenodd\" fill-opacity=\"1\" /><path clip-path=\"url(#clip080)\" d=\"M82.7975 583.491 L101.154 583.491 L101.154 587.426 L87.0799 587.426 L87.0799 595.898 Q88.0984 595.551 89.1169 595.389 Q90.1354 595.203 91.1539 595.203 Q96.941 595.203 100.321 598.375 Q103.7 601.546 103.7 606.963 Q103.7 612.541 100.228 615.643 Q96.7558 618.722 90.4364 618.722 Q88.2604 618.722 85.9919 618.351 Q83.7466 617.981 81.3392 617.24 L81.3392 612.541 Q83.4225 613.676 85.6447 614.231 Q87.8669 614.787 90.3438 614.787 Q94.3484 614.787 96.6863 612.68 Q99.0243 610.574 99.0243 606.963 Q99.0243 603.352 96.6863 601.245 Q94.3484 599.139 90.3438 599.139 Q88.4688 599.139 86.5938 599.555 Q84.7419 599.972 82.7975 600.852 L82.7975 583.491 Z\" fill=\"#000000\" fill-rule=\"evenodd\" fill-opacity=\"1\" /><path clip-path=\"url(#clip080)\" d=\"M122.913 586.569 Q119.302 586.569 117.473 590.134 Q115.668 593.676 115.668 600.805 Q115.668 607.912 117.473 611.477 Q119.302 615.018 122.913 615.018 Q126.547 615.018 128.353 611.477 Q130.182 607.912 130.182 600.805 Q130.182 593.676 128.353 590.134 Q126.547 586.569 122.913 586.569 M122.913 582.866 Q128.723 582.866 131.779 587.472 Q134.857 592.055 134.857 600.805 Q134.857 609.532 131.779 614.139 Q128.723 618.722 122.913 618.722 Q117.103 618.722 114.024 614.139 Q110.969 609.532 110.969 600.805 Q110.969 592.055 114.024 587.472 Q117.103 582.866 122.913 582.866 Z\" fill=\"#000000\" fill-rule=\"evenodd\" fill-opacity=\"1\" /><path clip-path=\"url(#clip080)\" d=\"M56.6171 322.755 L72.9365 322.755 L72.9365 326.69 L50.9921 326.69 L50.9921 322.755 Q53.6541 320 58.2375 315.371 Q62.8439 310.718 64.0245 309.375 Q66.2698 306.852 67.1494 305.116 Q68.0522 303.357 68.0522 301.667 Q68.0522 298.913 66.1078 297.176 Q64.1865 295.44 61.0847 295.44 Q58.8856 295.44 56.4319 296.204 Q54.0014 296.968 51.2236 298.519 L51.2236 293.797 Q54.0477 292.663 56.5014 292.084 Q58.955 291.505 60.9921 291.505 Q66.3624 291.505 69.5568 294.19 Q72.7513 296.876 72.7513 301.366 Q72.7513 303.496 71.9411 305.417 Q71.1541 307.315 69.0476 309.908 Q68.4689 310.579 65.367 313.797 Q62.2652 316.991 56.6171 322.755 Z\" fill=\"#000000\" fill-rule=\"evenodd\" fill-opacity=\"1\" /><path clip-path=\"url(#clip080)\" d=\"M92.7512 295.209 Q89.1401 295.209 87.3114 298.774 Q85.5058 302.315 85.5058 309.445 Q85.5058 316.551 87.3114 320.116 Q89.1401 323.658 92.7512 323.658 Q96.3854 323.658 98.1909 320.116 Q100.02 316.551 100.02 309.445 Q100.02 302.315 98.1909 298.774 Q96.3854 295.209 92.7512 295.209 M92.7512 291.505 Q98.5613 291.505 101.617 296.112 Q104.696 300.695 104.696 309.445 Q104.696 318.172 101.617 322.778 Q98.5613 327.361 92.7512 327.361 Q86.941 327.361 83.8623 322.778 Q80.8068 318.172 80.8068 309.445 Q80.8068 300.695 83.8623 296.112 Q86.941 291.505 92.7512 291.505 Z\" fill=\"#000000\" fill-rule=\"evenodd\" fill-opacity=\"1\" /><path clip-path=\"url(#clip080)\" d=\"M122.913 295.209 Q119.302 295.209 117.473 298.774 Q115.668 302.315 115.668 309.445 Q115.668 316.551 117.473 320.116 Q119.302 323.658 122.913 323.658 Q126.547 323.658 128.353 320.116 Q130.182 316.551 130.182 309.445 Q130.182 302.315 128.353 298.774 Q126.547 295.209 122.913 295.209 M122.913 291.505 Q128.723 291.505 131.779 296.112 Q134.857 300.695 134.857 309.445 Q134.857 318.172 131.779 322.778 Q128.723 327.361 122.913 327.361 Q117.103 327.361 114.024 322.778 Q110.969 318.172 110.969 309.445 Q110.969 300.695 114.024 296.112 Q117.103 291.505 122.913 291.505 Z\" fill=\"#000000\" fill-rule=\"evenodd\" fill-opacity=\"1\" /><circle clip-path=\"url(#clip082)\" cx=\"232.609\" cy=\"1416.58\" r=\"14.4\" fill=\"#009af9\" fill-rule=\"evenodd\" fill-opacity=\"1\" stroke=\"#000000\" stroke-opacity=\"1\" stroke-width=\"3.2\"/>\n",
       "<circle clip-path=\"url(#clip082)\" cx=\"404.142\" cy=\"1369.96\" r=\"14.4\" fill=\"#009af9\" fill-rule=\"evenodd\" fill-opacity=\"1\" stroke=\"#000000\" stroke-opacity=\"1\" stroke-width=\"3.2\"/>\n",
       "<circle clip-path=\"url(#clip082)\" cx=\"575.675\" cy=\"1311.69\" r=\"14.4\" fill=\"#009af9\" fill-rule=\"evenodd\" fill-opacity=\"1\" stroke=\"#000000\" stroke-opacity=\"1\" stroke-width=\"3.2\"/>\n",
       "<circle clip-path=\"url(#clip082)\" cx=\"747.208\" cy=\"1241.76\" r=\"14.4\" fill=\"#009af9\" fill-rule=\"evenodd\" fill-opacity=\"1\" stroke=\"#000000\" stroke-opacity=\"1\" stroke-width=\"3.2\"/>\n",
       "<circle clip-path=\"url(#clip082)\" cx=\"918.741\" cy=\"1160.18\" r=\"14.4\" fill=\"#009af9\" fill-rule=\"evenodd\" fill-opacity=\"1\" stroke=\"#000000\" stroke-opacity=\"1\" stroke-width=\"3.2\"/>\n",
       "<circle clip-path=\"url(#clip082)\" cx=\"1090.27\" cy=\"1066.95\" r=\"14.4\" fill=\"#009af9\" fill-rule=\"evenodd\" fill-opacity=\"1\" stroke=\"#000000\" stroke-opacity=\"1\" stroke-width=\"3.2\"/>\n",
       "<circle clip-path=\"url(#clip082)\" cx=\"1261.81\" cy=\"962.057\" r=\"14.4\" fill=\"#009af9\" fill-rule=\"evenodd\" fill-opacity=\"1\" stroke=\"#000000\" stroke-opacity=\"1\" stroke-width=\"3.2\"/>\n",
       "<circle clip-path=\"url(#clip082)\" cx=\"1433.34\" cy=\"845.513\" r=\"14.4\" fill=\"#009af9\" fill-rule=\"evenodd\" fill-opacity=\"1\" stroke=\"#000000\" stroke-opacity=\"1\" stroke-width=\"3.2\"/>\n",
       "<circle clip-path=\"url(#clip082)\" cx=\"1604.87\" cy=\"717.315\" r=\"14.4\" fill=\"#009af9\" fill-rule=\"evenodd\" fill-opacity=\"1\" stroke=\"#000000\" stroke-opacity=\"1\" stroke-width=\"3.2\"/>\n",
       "<circle clip-path=\"url(#clip082)\" cx=\"1776.41\" cy=\"577.462\" r=\"14.4\" fill=\"#009af9\" fill-rule=\"evenodd\" fill-opacity=\"1\" stroke=\"#000000\" stroke-opacity=\"1\" stroke-width=\"3.2\"/>\n",
       "<circle clip-path=\"url(#clip082)\" cx=\"1947.94\" cy=\"425.954\" r=\"14.4\" fill=\"#009af9\" fill-rule=\"evenodd\" fill-opacity=\"1\" stroke=\"#000000\" stroke-opacity=\"1\" stroke-width=\"3.2\"/>\n",
       "<circle clip-path=\"url(#clip082)\" cx=\"2119.47\" cy=\"262.793\" r=\"14.4\" fill=\"#009af9\" fill-rule=\"evenodd\" fill-opacity=\"1\" stroke=\"#000000\" stroke-opacity=\"1\" stroke-width=\"3.2\"/>\n",
       "<circle clip-path=\"url(#clip082)\" cx=\"2291\" cy=\"87.9763\" r=\"14.4\" fill=\"#009af9\" fill-rule=\"evenodd\" fill-opacity=\"1\" stroke=\"#000000\" stroke-opacity=\"1\" stroke-width=\"3.2\"/>\n",
       "<circle clip-path=\"url(#clip082)\" cx=\"232.609\" cy=\"1445.72\" r=\"14.4\" fill=\"#e26f46\" fill-rule=\"evenodd\" fill-opacity=\"1\" stroke=\"#000000\" stroke-opacity=\"1\" stroke-width=\"3.2\"/>\n",
       "<circle clip-path=\"url(#clip082)\" cx=\"404.142\" cy=\"1387.44\" r=\"14.4\" fill=\"#e26f46\" fill-rule=\"evenodd\" fill-opacity=\"1\" stroke=\"#000000\" stroke-opacity=\"1\" stroke-width=\"3.2\"/>\n",
       "<circle clip-path=\"url(#clip082)\" cx=\"575.675\" cy=\"1317.52\" r=\"14.4\" fill=\"#e26f46\" fill-rule=\"evenodd\" fill-opacity=\"1\" stroke=\"#000000\" stroke-opacity=\"1\" stroke-width=\"3.2\"/>\n",
       "<circle clip-path=\"url(#clip082)\" cx=\"747.208\" cy=\"1247.59\" r=\"14.4\" fill=\"#e26f46\" fill-rule=\"evenodd\" fill-opacity=\"1\" stroke=\"#000000\" stroke-opacity=\"1\" stroke-width=\"3.2\"/>\n",
       "<circle clip-path=\"url(#clip082)\" cx=\"918.741\" cy=\"1166.01\" r=\"14.4\" fill=\"#e26f46\" fill-rule=\"evenodd\" fill-opacity=\"1\" stroke=\"#000000\" stroke-opacity=\"1\" stroke-width=\"3.2\"/>\n",
       "<circle clip-path=\"url(#clip082)\" cx=\"1090.27\" cy=\"1072.77\" r=\"14.4\" fill=\"#e26f46\" fill-rule=\"evenodd\" fill-opacity=\"1\" stroke=\"#000000\" stroke-opacity=\"1\" stroke-width=\"3.2\"/>\n",
       "<circle clip-path=\"url(#clip082)\" cx=\"1261.81\" cy=\"967.885\" r=\"14.4\" fill=\"#e26f46\" fill-rule=\"evenodd\" fill-opacity=\"1\" stroke=\"#000000\" stroke-opacity=\"1\" stroke-width=\"3.2\"/>\n",
       "<circle clip-path=\"url(#clip082)\" cx=\"1433.34\" cy=\"851.34\" r=\"14.4\" fill=\"#e26f46\" fill-rule=\"evenodd\" fill-opacity=\"1\" stroke=\"#000000\" stroke-opacity=\"1\" stroke-width=\"3.2\"/>\n",
       "<circle clip-path=\"url(#clip082)\" cx=\"1604.87\" cy=\"723.142\" r=\"14.4\" fill=\"#e26f46\" fill-rule=\"evenodd\" fill-opacity=\"1\" stroke=\"#000000\" stroke-opacity=\"1\" stroke-width=\"3.2\"/>\n",
       "<circle clip-path=\"url(#clip082)\" cx=\"1776.41\" cy=\"583.289\" r=\"14.4\" fill=\"#e26f46\" fill-rule=\"evenodd\" fill-opacity=\"1\" stroke=\"#000000\" stroke-opacity=\"1\" stroke-width=\"3.2\"/>\n",
       "<circle clip-path=\"url(#clip082)\" cx=\"1947.94\" cy=\"431.782\" r=\"14.4\" fill=\"#e26f46\" fill-rule=\"evenodd\" fill-opacity=\"1\" stroke=\"#000000\" stroke-opacity=\"1\" stroke-width=\"3.2\"/>\n",
       "<circle clip-path=\"url(#clip082)\" cx=\"2119.47\" cy=\"268.62\" r=\"14.4\" fill=\"#e26f46\" fill-rule=\"evenodd\" fill-opacity=\"1\" stroke=\"#000000\" stroke-opacity=\"1\" stroke-width=\"3.2\"/>\n",
       "<circle clip-path=\"url(#clip082)\" cx=\"2291\" cy=\"93.8035\" r=\"14.4\" fill=\"#e26f46\" fill-rule=\"evenodd\" fill-opacity=\"1\" stroke=\"#000000\" stroke-opacity=\"1\" stroke-width=\"3.2\"/>\n",
       "<path clip-path=\"url(#clip080)\" d=\"\n",
       "M1985.16 250.738 L2280.03 250.738 L2280.03 95.2176 L1985.16 95.2176  Z\n",
       "  \" fill=\"#ffffff\" fill-rule=\"evenodd\" fill-opacity=\"1\"/>\n",
       "<polyline clip-path=\"url(#clip080)\" style=\"stroke:#000000; stroke-linecap:round; stroke-linejoin:round; stroke-width:4; stroke-opacity:1; fill:none\" points=\"\n",
       "  1985.16,250.738 2280.03,250.738 2280.03,95.2176 1985.16,95.2176 1985.16,250.738 \n",
       "  \"/>\n",
       "<circle clip-path=\"url(#clip080)\" cx=\"2082.14\" cy=\"147.058\" r=\"23.04\" fill=\"#009af9\" fill-rule=\"evenodd\" fill-opacity=\"1\" stroke=\"#000000\" stroke-opacity=\"1\" stroke-width=\"5.12\"/>\n",
       "<path clip-path=\"url(#clip080)\" d=\"M2192.95 166.745 Q2191.15 171.375 2189.43 172.787 Q2187.72 174.199 2184.85 174.199 L2181.45 174.199 L2181.45 170.634 L2183.95 170.634 Q2185.71 170.634 2186.68 169.8 Q2187.65 168.967 2188.83 165.865 L2189.6 163.921 L2179.11 138.412 L2183.62 138.412 L2191.72 158.689 L2199.83 138.412 L2204.34 138.412 L2192.95 166.745 Z\" fill=\"#000000\" fill-rule=\"evenodd\" fill-opacity=\"1\" /><path clip-path=\"url(#clip080)\" d=\"M2211.63 160.402 L2219.27 160.402 L2219.27 134.037 L2210.96 135.703 L2210.96 131.444 L2219.22 129.778 L2223.9 129.778 L2223.9 160.402 L2231.54 160.402 L2231.54 164.338 L2211.63 164.338 L2211.63 160.402 Z\" fill=\"#000000\" fill-rule=\"evenodd\" fill-opacity=\"1\" /><circle clip-path=\"url(#clip080)\" cx=\"2082.14\" cy=\"198.898\" r=\"23.04\" fill=\"#e26f46\" fill-rule=\"evenodd\" fill-opacity=\"1\" stroke=\"#000000\" stroke-opacity=\"1\" stroke-width=\"5.12\"/>\n",
       "<path clip-path=\"url(#clip080)\" d=\"M2192.95 218.585 Q2191.15 223.215 2189.43 224.627 Q2187.72 226.039 2184.85 226.039 L2181.45 226.039 L2181.45 222.474 L2183.95 222.474 Q2185.71 222.474 2186.68 221.64 Q2187.65 220.807 2188.83 217.705 L2189.6 215.761 L2179.11 190.252 L2183.62 190.252 L2191.72 210.529 L2199.83 190.252 L2204.34 190.252 L2192.95 218.585 Z\" fill=\"#000000\" fill-rule=\"evenodd\" fill-opacity=\"1\" /><path clip-path=\"url(#clip080)\" d=\"M2214.85 212.242 L2231.17 212.242 L2231.17 216.178 L2209.22 216.178 L2209.22 212.242 Q2211.89 209.488 2216.47 204.858 Q2221.08 200.205 2222.26 198.863 Q2224.5 196.34 2225.38 194.604 Q2226.28 192.844 2226.28 191.155 Q2226.28 188.4 2224.34 186.664 Q2222.42 184.928 2219.32 184.928 Q2217.12 184.928 2214.66 185.692 Q2212.23 186.455 2209.46 188.006 L2209.46 183.284 Q2212.28 182.15 2214.73 181.571 Q2217.19 180.993 2219.22 180.993 Q2224.59 180.993 2227.79 183.678 Q2230.98 186.363 2230.98 190.854 Q2230.98 192.983 2230.17 194.905 Q2229.39 196.803 2227.28 199.395 Q2226.7 200.067 2223.6 203.284 Q2220.5 206.479 2214.85 212.242 Z\" fill=\"#000000\" fill-rule=\"evenodd\" fill-opacity=\"1\" /></svg>\n"
      ]
     },
     "execution_count": 4,
     "metadata": {},
     "output_type": "execute_result"
    }
   ],
   "source": [
    "plot(n_min:n_max, df.next_exp_dim, seriestype=:scatter)\n",
    "plot!(n_min:n_max, df.next_secant_dim, seriestype=:scatter)"
   ]
  },
  {
   "cell_type": "code",
   "execution_count": null,
   "metadata": {},
   "outputs": [],
   "source": [
    "df"
   ]
  },
  {
   "cell_type": "code",
   "execution_count": null,
   "metadata": {},
   "outputs": [],
   "source": [
    "n_min = 2;\n",
    "n_max = 14;\n",
    "@polyvar X[1:n_max];\n",
    "\n",
    "restart = false; # set this to true in order to overwrite results of previous computations and start from scratch\n",
    "initdf = DataFrame(:n=>Int[], :max_nondefective_rank => Int[], :max_nondefective_secant_dim=>Int[], :next_exp_dim =>Int[], :next_secant_dim=>Int[], :parameter_counting_rank => Int[]);\n",
    "df = initdf;\n",
    "if isfile(filepath_csv)\n",
    "    df = DataFrame(CSV.read(filepath_csv, DataFrame))\n",
    "    if restart || (size(df, 1) == 0)\n",
    "        df = initdf;\n",
    "        CSV.write(filepath_csv, df)\n",
    "    end\n",
    "else \n",
    "    CSV.write(filepath_csv, df)\n",
    "end\n",
    "is_secant_dim_computed(i) = i∈df.n\n",
    "\n",
    "for i = n_min:n_max\n",
    "    # check if the values have already been computed before\n",
    "    if is_secant_dim_computed(i)\n",
    "        continue;\n",
    "    end\n",
    "    dim, exp_dim, m, A, B = secant_tangent_dimension_general(i, X[1:i])\n",
    "\n",
    "    M = length(monomials(X[1:i], 1:2));\n",
    "    N = length(monomials(X[1:i], d));\n",
    "    dim, exp_dim, m = 0, 0, 0\n",
    "    new_row = DataFrame();\n",
    "    A, B =  SparseMatrixCSC{Float64, Int64}, SparseMatrixCSC{Float64, Int64}\n",
    "    while dim == exp_dim\n",
    "        max_nondef_rank = m;\n",
    "        max_nondef_secant_dim = dim;\n",
    "        m += 1;\n",
    "        dim, exp_dim, m, A, B = secant_tangent_dimension_general(i, X[1:i], m);\n",
    "        new_row = DataFrame(:n=>[i], :max_nondefective_rank => [max_nondef_rank], :max_nondefective_secant_dim=>[max_nondef_secant_dim], :next_exp_dim =>[exp_dim], :next_secant_dim=>[dim], :parameter_counting_rank =>[Int(floor(N/M))])\n",
    "    end\n",
    "    append!(df, new_row)\n",
    "    CSV.write(filepath_csv, new_row; append=true)\n",
    "end\n"
   ]
  }
 ],
 "metadata": {
  "kernelspec": {
   "display_name": "Julia 1.9.0",
   "language": "julia",
   "name": "julia-1.9"
  },
  "language_info": {
   "file_extension": ".jl",
   "mimetype": "application/julia",
   "name": "julia",
   "version": "1.9.0"
  }
 },
 "nbformat": 4,
 "nbformat_minor": 4
}
