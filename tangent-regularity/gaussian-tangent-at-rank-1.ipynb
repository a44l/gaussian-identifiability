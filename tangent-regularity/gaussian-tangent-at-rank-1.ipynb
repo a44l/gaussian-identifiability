{
 "cells": [
  {
   "cell_type": "markdown",
   "metadata": {},
   "source": [
    "## Gaussian tangent space at rank-1 covariance forms\n",
    "\n",
    "Consider the polynomial parametrization of the degree-6 Gaussian moment variety $s(q, \\ell) = 15q^3 + 45q^2\\ell^2 + 15q\\ell^4 + \\ell^6$. This script is to show that for general linear forms $\\ell$ and general quadratic forms $q$ which are the **square of a general linear form** $l$, i.e. $q = l^2$, the map $T_s(q, \\ell)$ of tangent spaces induced by $s$ is a surjection. As mentioned in the paper, it suffices to show the claim in two variables, i.e. $\\ell = X$ and $q = Y^2$. We know that for $d\\ge 5$, the dimension of the degree-d Gaussian moment variety equals the number of parameters and is thus 5 in the bivariate case. The following computes that the tangent map has rank 5, too:"
   ]
  },
  {
   "cell_type": "code",
   "execution_count": 2,
   "metadata": {},
   "outputs": [
    {
     "name": "stderr",
     "output_type": "stream",
     "text": [
      "\u001b[32m\u001b[1m  Activating\u001b[22m\u001b[39m new project at `~/Dokumente/git repositories/gaussian-identifiability/tangent-regularity/identifiability`\n"
     ]
    }
   ],
   "source": [
    "using Pkg; \n",
    "Pkg.activate(\"identifiability\");\n",
    "using DynamicPolynomials, SparseArrays;\n",
    "include(\"../secant-dimensions/code/gaussian-moments.jl\");"
   ]
  },
  {
   "cell_type": "code",
   "execution_count": 3,
   "metadata": {},
   "outputs": [
    {
     "data": {
      "text/plain": [
       "s (generic function with 1 method)"
      ]
     },
     "metadata": {},
     "output_type": "display_data"
    }
   ],
   "source": [
    "# define Gaussian moments\n",
    "@polyvar Q L;\n",
    "const monoms_degree(d::Int) = filter(m-> d == (2degree(m, Q) + degree(m, L)), monomials([Q, L], 1:d));\n",
    "d_max = 9;\n",
    "mom_gen_series = sum(1/factorial(k)*(Q/2 + L)^k for k = 1:d_max);\n",
    "\n",
    "function s(d)\n",
    "    coeffs_rescaled = factorial(d).*coefficients(mom_gen_series, monoms_degree(d));\n",
    "    coeffs_int = Int.(round.(coeffs_rescaled, digits=0));\n",
    "    moments = coeffs_int⋅monoms_degree(d);\n",
    "end"
   ]
  },
  {
   "cell_type": "code",
   "execution_count": 4,
   "metadata": {},
   "outputs": [
    {
     "name": "stdout",
     "output_type": "stream",
     "text": [
      "-------------------------------------------------------------------------------------\n"
     ]
    },
    {
     "name": "stdout",
     "output_type": "stream",
     "text": [
      "Degree d = 5, number of variables n = 2:\n",
      "Dimension of the Gaussian Moment variety GM_d(C^n): 5\n",
      "Tangent space dimension of the Gaussian Moment variety at s_d(X, Y^2): 5\n",
      "Tangent map nondefective at (X, Y^2): true\n",
      "-------------------------------------------------------------------------------------\n"
     ]
    },
    {
     "name": "stdout",
     "output_type": "stream",
     "text": [
      "Degree d = 6, number of variables n = 2:\n",
      "Dimension of the Gaussian Moment variety GM_d(C^n): 5\n",
      "Tangent space dimension of the Gaussian Moment variety at s_d(X, Y^2): 5\n",
      "Tangent map nondefective at (X, Y^2): true\n",
      "-------------------------------------------------------------------------------------\n"
     ]
    },
    {
     "name": "stdout",
     "output_type": "stream",
     "text": [
      "Degree d = 7, number of variables n = 2:\n",
      "Dimension of the Gaussian Moment variety GM_d(C^n): 5\n",
      "Tangent space dimension of the Gaussian Moment variety at s_d(X, Y^2): 5\n",
      "Tangent map nondefective at (X, Y^2): true\n",
      "-------------------------------------------------------------------------------------\n"
     ]
    },
    {
     "name": "stdout",
     "output_type": "stream",
     "text": [
      "Degree d = 8, number of variables n = 2:\n",
      "Dimension of the Gaussian Moment variety GM_d(C^n): 5\n",
      "Tangent space dimension of the Gaussian Moment variety at s_d(X, Y^2): 5\n",
      "Tangent map nondefective at (X, Y^2): true\n",
      "-------------------------------------------------------------------------------------\n"
     ]
    },
    {
     "name": "stdout",
     "output_type": "stream",
     "text": [
      "Degree d = 9, number of variables n = 2:\n",
      "Dimension of the Gaussian Moment variety GM_d(C^n): 5\n",
      "Tangent space dimension of the Gaussian Moment variety at s_d(X, Y^2): 5\n",
      "Tangent map nondefective at (X, Y^2): true\n",
      "-------------------------------------------------------------------------------------\n"
     ]
    }
   ],
   "source": [
    "@polyvar X Y;\n",
    "vars = [X; Y];\n",
    "function f(q, ℓ); end; \n",
    "function g(q, ℓ); end;\n",
    "d = 0;\n",
    "\n",
    "println(\"-------------------------------------------------------------------------------------\");\n",
    "for i = 5:9\n",
    "    d = i;\n",
    "    f(q, ℓ) = s(d-2)(Q=>q, L=>ℓ);\n",
    "    g(q, ℓ) = s(d-1)(Q=>q, L=>ℓ);\n",
    "\n",
    "    gaussian_moment_dimension = 5;\n",
    "    A = f_ideal(1.0Y^2, X, vars);\n",
    "    B = g_ideal(1.0Y^2, X, vars);\n",
    "    tangent_dim = rank(hcat(A, B));\n",
    "    println(\"Degree d = $d, number of variables n = $(length(vars)):\");\n",
    "    println(\"Dimension of the Gaussian Moment variety GM_d(C^n): $(gaussian_moment_dimension)\");\n",
    "    println(\"Tangent space dimension of the Gaussian Moment variety at s_d(X, Y^2): $(tangent_dim)\");\n",
    "    println(\"Tangent map nondefective at (X, Y^2): $(gaussian_moment_dimension == tangent_dim)\");\n",
    "    println(\"-------------------------------------------------------------------------------------\");\n",
    "end"
   ]
  },
  {
   "cell_type": "code",
   "execution_count": 5,
   "metadata": {},
   "outputs": [
    {
     "data": {
      "text/plain": [
       "11×5 SparseMatrixCSC{Float64, Int64} with 25 stored entries:\n",
       " 105.0     ⋅      ⋅       ⋅       ⋅ \n",
       "    ⋅   105.0     ⋅       ⋅    945.0\n",
       " 420.0     ⋅   105.0   945.0      ⋅ \n",
       "    ⋅   420.0     ⋅       ⋅   1260.0\n",
       " 210.0     ⋅   420.0  1260.0      ⋅ \n",
       "    ⋅   210.0     ⋅       ⋅    378.0\n",
       "  28.0     ⋅   210.0   378.0      ⋅ \n",
       "    ⋅    28.0     ⋅       ⋅     36.0\n",
       "   1.0     ⋅    28.0    36.0      ⋅ \n",
       "    ⋅     1.0     ⋅       ⋅      1.0\n",
       "    ⋅      ⋅     1.0     1.0      ⋅ "
      ]
     },
     "metadata": {},
     "output_type": "display_data"
    }
   ],
   "source": [
    "# let us observe the image of Ts at (X, Y^2) at a concrete degree. \n",
    "d = 10\n",
    "f(q, ℓ) = s(d-2)(Q=>q, L=>ℓ);\n",
    "g(q, ℓ) = s(d-1)(Q=>q, L=>ℓ);\n",
    "\n",
    "gaussian_moment_dimension = length(monomials(vars, 1:2));\n",
    "A = f_ideal(1.0Y^2, X, vars);\n",
    "B = g_ideal(1.0Y^2, X, vars);\n",
    "\n",
    "hcat(A, B) # image of Ts at (X, Y^2). "
   ]
  },
  {
   "cell_type": "code",
   "execution_count": 6,
   "metadata": {},
   "outputs": [
    {
     "data": {
      "text/plain": [
       "11-element MonomialVector{DynamicPolynomials.Commutative{DynamicPolynomials.CreationOrder}, Graded{LexOrder}}:\n",
       " Y¹⁰\n",
       " XY⁹\n",
       " X²Y⁸\n",
       " X³Y⁷\n",
       " X⁴Y⁶\n",
       " X⁵Y⁵\n",
       " X⁶Y⁴\n",
       " X⁷Y³\n",
       " X⁸Y²\n",
       " X⁹Y\n",
       " X¹⁰"
      ]
     },
     "metadata": {},
     "output_type": "display_data"
    }
   ],
   "source": [
    "monomials(vars, d) # row indices of the matrix above"
   ]
  }
 ],
 "metadata": {
  "kernelspec": {
   "display_name": "Julia 1.10.0",
   "language": "julia",
   "name": "julia-1.10"
  },
  "language_info": {
   "file_extension": ".jl",
   "mimetype": "application/julia",
   "name": "julia",
   "version": "1.10.0"
  }
 },
 "nbformat": 4,
 "nbformat_minor": 4
}
